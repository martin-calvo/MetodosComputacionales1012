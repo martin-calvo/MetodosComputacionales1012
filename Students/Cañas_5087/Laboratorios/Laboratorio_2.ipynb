{
 "cells": [
  {
   "cell_type": "markdown",
   "id": "5833cba4",
   "metadata": {},
   "source": [
    "# Laboratorio 02: Representación Numérica, Errores y Estabilidad.\n",
    "\n",
    "---\n",
    "### Profesor: Daniel Ruiz Mejía\n",
    "### Nombre: Jesús Armando Cañas Gamboa\n",
    "*Métodos computacionales 2025-I*\n",
    "\n",
    "---"
   ]
  },
  {
   "cell_type": "code",
   "execution_count": 1,
   "id": "320d10ff-a1bb-4389-8f27-0cba6e12b298",
   "metadata": {},
   "outputs": [],
   "source": [
    "import numpy as np\n",
    "import matplotlib.pyplot as plt\n",
    "import math"
   ]
  },
  {
   "cell_type": "markdown",
   "id": "204306de",
   "metadata": {},
   "source": [
    "# 1.\n",
    "Cree una función llamada `myint` pero que a partir de un número binario con base de 16 bits encuentre el entero correspondiente. Compare su resultado con `int(0b1000011100001)`"
   ]
  },
  {
   "cell_type": "code",
   "execution_count": 2,
   "id": "6b0117ca",
   "metadata": {},
   "outputs": [],
   "source": [
    "def myint(numero_bin):\n",
    "    numero_bin = str(numero_bin) #Pasamos a cadena de texto\n",
    "    numero_bin = list(numero_bin)#Pasamos a lista\n",
    "    numero_bin.reverse()  # Voltiamos la lista para empezar desde el bit menos significativo\n",
    "    numero_int = 0 #Inicializamos el acomulador de la suma \n",
    "    for i in range(len(numero_bin)):\n",
    "        digito = int(numero_bin[i]) #Pasamos cada termino a entero\n",
    "        numero_int += digito * (2 ** i) #Calculamos su correspondiente a decimal\n",
    "    return numero_int #Retornamos\n"
   ]
  },
  {
   "cell_type": "code",
   "execution_count": 3,
   "id": "2f3ab1da-4cf2-497e-9a1d-12bfd260a8ac",
   "metadata": {},
   "outputs": [
    {
     "data": {
      "text/plain": [
       "4321"
      ]
     },
     "execution_count": 3,
     "metadata": {},
     "output_type": "execute_result"
    }
   ],
   "source": [
    "int(0b1000011100001)"
   ]
  },
  {
   "cell_type": "code",
   "execution_count": 4,
   "id": "8d944b5d-e890-4d4f-97ee-e62ade2959ee",
   "metadata": {},
   "outputs": [
    {
     "data": {
      "text/plain": [
       "4321"
      ]
     },
     "execution_count": 4,
     "metadata": {},
     "output_type": "execute_result"
    }
   ],
   "source": [
    "myint(1000011100001)"
   ]
  },
  {
   "cell_type": "markdown",
   "id": "bb956b56",
   "metadata": {},
   "source": [
    "# 2.\n",
    "Generar una función llamada `number64` para flotantes de precisión doble (64bits) donde a partir de un número binario encuentre el valor real. Compruebe su solución usando\n",
    "\n",
    "```\n",
    "number64(\"0100000000111011100100001111111111111111111111111111111111111111\")\n",
    "```"
   ]
  },
  {
   "cell_type": "code",
   "execution_count": 5,
   "id": "8d675a1e",
   "metadata": {},
   "outputs": [],
   "source": [
    "def number64(numero):\n",
    "    # Validar que la cadena tenga 64 bits\n",
    "    if len(numero) != 64:\n",
    "        raise ValueError(\"Debe tener 64 bits exactos\")\n",
    "\n",
    "    # Extraer el bit de signo\n",
    "    signo = int(numero[0])\n",
    "\n",
    "    # Extraer los bits del exponente y calcular el valor real (restando el sesgo 1023)\n",
    "    exponente_bin = numero[1:12]\n",
    "    exponente = int(exponente_bin, 2) - 1023\n",
    "\n",
    "    # Extraer la parte fraccionaria (mantisa)\n",
    "    mantisa_bin = numero[12:]\n",
    "    mantisa = 1  # El 1 que va antes del punto (bit oculto)\n",
    "    \n",
    "    # Sumar los bits de la fracción como potencias negativas de 2\n",
    "    for i in range(len(mantisa_bin)):\n",
    "        if mantisa_bin[i] == '1':\n",
    "            mantisa += 2 ** (-(i + 1))\n",
    "\n",
    "    # Calcular el valor final\n",
    "    valor = (-1)**signo * mantisa * (2**exponente)\n",
    "    return valor\n",
    "\n"
   ]
  },
  {
   "cell_type": "code",
   "execution_count": 6,
   "id": "6aee3fa0-f78d-48aa-856d-1b59be36dc88",
   "metadata": {},
   "outputs": [
    {
     "data": {
      "text/plain": [
       "27.566406249999996"
      ]
     },
     "execution_count": 6,
     "metadata": {},
     "output_type": "execute_result"
    }
   ],
   "source": [
    "number64('0100000000111011100100001111111111111111111111111111111111111111')"
   ]
  },
  {
   "cell_type": "markdown",
   "id": "a5693385",
   "metadata": {},
   "source": [
    "# 3. Aproximación de $\\pi$\n",
    "\n",
    "La serie de Maclaurin para la función tangente inversa converge en $-1 < x \\leq 1$ y está dada por:\n",
    "\n",
    "$$\n",
    "\\arctan x = \\lim_{n \\to \\infty} P_n(x) = \\lim_{n \\to \\infty} \\sum_{i=1}^n (-1)^{i+1} \\frac{x^{2i-1}}{2i-1}\n",
    "$$\n",
    "\n",
    "- **Aproximación básica**\n",
    "    - Utilizando el hecho de que $\\tan(\\pi/4) = 1$, implemente en Python una función que calcule $4P_n(1)$ y determina el número mínimo de términos $n$ necesarios para que $|4P_n(1) - \\pi| < 10^{-3}$. Compare su resultado con el valor de $\\pi$ de la librería math.\n",
    "    - Requiriendo que el valor de $\\pi$ esté dentro de un error de $10^{-4}$. ¿Cuántos términos de la serie se necesitaría sumar para obtener esta precisión? Implemente una solución en Python para encontrar este valor.\n",
    "- **Mejora de la convergencia**\n",
    "    El método anterior puede mejorarse significativamente usando la identidad:\n",
    "    $$\n",
    "    \\frac{\\pi}{4} = \\arctan\\left(\\frac{1}{2}\\right) + \\arctan\\left(\\frac{1}{3}\\right)\n",
    "    $$\n",
    "    - Implemente en Python una función que evalúe la serie para $\\arctan(1/2)$ y $\\arctan(1/3)$ por separado y luego las sume. Determine el número mínimo de términos necesarios para cada serie (pueden ser diferentes) para aproximar $\\pi$ con un error menor a $10^{-3}$ y $10^{-6}$.\n",
    "\n",
    "- **Método de alta precisión**\n",
    "    Para obtener una convergencia aún más rápida, usamos la identidad:\n",
    "    $$\n",
    "    \\frac{\\pi}{4} = 4\\arctan\\left(\\frac{1}{5}\\right) - \\arctan\\left(\\frac{1}{239}\\right)\n",
    "    $$\n",
    "    Desarrolle un programa en Python que implemente esta fórmula y determine:\n",
    "    - El número mínimo de términos necesarios en cada serie para aproximar $\\pi$ con error menor a $10^{-3}$ y $10^{-6}$.\n",
    "    - Compare el rendimiento (número de términos requeridos) con los métodos anteriores.\n",
    " \n",
    " "
   ]
  },
  {
   "cell_type": "code",
   "execution_count": 7,
   "id": "8aef365a",
   "metadata": {},
   "outputs": [],
   "source": [
    "def arctan_1(x):\n",
    "    \"\"\" \n",
    "    Esta función calcula el valor de la tangente inversa\n",
    "    \"\"\"\n",
    "    #inicializamos el contador y el acomulador\n",
    "    suma = 0\n",
    "    i = 1\n",
    "    while True:\n",
    "        #Definimos la operación para cada termino\n",
    "        p = 2*i-1\n",
    "        termino = (-1)**(i+1) * (x**p)/p\n",
    "        \n",
    "        #Acumulamos\n",
    "        suma+= termino\n",
    "\n",
    "        #Definimos la tolerancia\n",
    "        if abs(4*suma-math.pi)< 1e-3:\n",
    "            break\n",
    "        i+=1\n",
    "    return suma\n"
   ]
  },
  {
   "cell_type": "code",
   "execution_count": 8,
   "id": "0453c4d6-8299-40bb-a484-26052bcde86e",
   "metadata": {},
   "outputs": [
    {
     "name": "stdout",
     "output_type": "stream",
     "text": [
      "0.7851481634599485\n"
     ]
    }
   ],
   "source": [
    "print(arctan_1(1))"
   ]
  },
  {
   "cell_type": "code",
   "execution_count": 9,
   "id": "af6ca8cc-5e72-4fd9-a55a-8a8c2bc00fd1",
   "metadata": {},
   "outputs": [],
   "source": [
    "def arctan_2(x,tol):\n",
    "    \"\"\" \n",
    "    Esta función calcula el valor de la tangente inversa\n",
    "    entrada x valor del argumento\n",
    "    salida tangente inversa y numero de iteraciones\n",
    "    \"\"\"\n",
    "    #inicializamos el contador y el acomulador\n",
    "    suma = 0\n",
    "    i = 1\n",
    "    while True:\n",
    "        #Definimos la operación para cada termino\n",
    "        p = 2*i-1\n",
    "        termino = (-1)**(i+1) * (x**p)/p\n",
    "        \n",
    "        #Acumulamos\n",
    "        suma+= termino\n",
    "        \n",
    "        #Definimos la tolerancia\n",
    "        if abs(4*suma-np.pi)< tol:\n",
    "            break\n",
    "        i += 1\n",
    "    return suma, i\n"
   ]
  },
  {
   "cell_type": "code",
   "execution_count": 10,
   "id": "c70d575a-4247-4d61-bd9a-472c99e1fdd5",
   "metadata": {},
   "outputs": [
    {
     "name": "stdout",
     "output_type": "stream",
     "text": [
      "(0.7853984133971936, 1000001)\n"
     ]
    }
   ],
   "source": [
    "print(arctan_2(1,1e-6))"
   ]
  },
  {
   "cell_type": "code",
   "execution_count": 11,
   "id": "e01a5dd6-e37d-439c-a3de-da311c36ff02",
   "metadata": {},
   "outputs": [],
   "source": [
    "def arctan_3(x,tolerancia):\n",
    "    \"\"\" \n",
    "        Esta función calcula el valor de la tangente inversa\n",
    "    entrada x valor del argumento\n",
    "    salida tangente inversa y numero de iteraciones\n",
    "    \n",
    "    \"\"\"\n",
    "    \n",
    "    if x ==1:\n",
    "        z = 1/2\n",
    "        y = 1/3\n",
    "    #inicializamos el contador y el acomulador  \n",
    "    suma_1 = 0\n",
    "    suma_2 = 0\n",
    "    i = 1\n",
    "    while True:\n",
    "        #Definimos la operación para cada termino\n",
    "        p = 2*i-1\n",
    "        termino_1 = (-1)**(i+1) * (z**p)/p\n",
    "        \n",
    "        #Acumulamos\n",
    "        suma_1+= termino_1\n",
    "        \n",
    "        #Definimos la operación para cada termino\n",
    "        p = 2*i-1\n",
    "        termino_2 = (-1)**(i+1) * (y**p)/p\n",
    "        \n",
    "        #Acumulamos\n",
    "        suma_2+= termino_2\n",
    "        \n",
    "        suma = suma_1+ suma_2\n",
    "        \n",
    "        #Definimos la tolerancia\n",
    "        if abs(4*suma-math.pi)< tolerancia:\n",
    "            break\n",
    "        i+=1\n",
    "    return suma,i"
   ]
  },
  {
   "cell_type": "code",
   "execution_count": 12,
   "id": "d02af6ee-186d-4b16-b75b-b14ba5d10d89",
   "metadata": {},
   "outputs": [
    {
     "name": "stdout",
     "output_type": "stream",
     "text": [
      "(0.7852126404402638, 4)\n"
     ]
    }
   ],
   "source": [
    "print(arctan_3(1,1e-3))"
   ]
  },
  {
   "cell_type": "code",
   "execution_count": 13,
   "id": "d1c6b92f-f24b-4f46-afad-dd099b394e91",
   "metadata": {},
   "outputs": [
    {
     "name": "stdout",
     "output_type": "stream",
     "text": [
      "(0.7853982453336417, 9)\n"
     ]
    }
   ],
   "source": [
    "print(arctan_3(1,1e-6))"
   ]
  },
  {
   "cell_type": "code",
   "execution_count": 14,
   "id": "55899208-bd8f-4fa3-9e4b-31a49093f082",
   "metadata": {},
   "outputs": [],
   "source": [
    "#comparacion de terminos\n"
   ]
  },
  {
   "cell_type": "code",
   "execution_count": 15,
   "id": "9dfd535b-7a41-467a-8c28-c11c96805fc2",
   "metadata": {},
   "outputs": [],
   "source": [
    "def arctan_4(x, tolerancia):\n",
    "    \"\"\" \n",
    "    Esta función calcula el valor de la tangente inversa\n",
    "    entrada x valor del argumento\n",
    "    salida tangente inversa y numero de iteraciones\n",
    "    \"\"\"\n",
    "    if x ==1:\n",
    "        z = 1/5\n",
    "        y = 1/239\n",
    "    #inicializamos el contador y el acomulador\n",
    "    suma_1 = 0\n",
    "    suma_2 = 0\n",
    "    i = 1\n",
    "    while True:\n",
    "        #Definimos la operación para cada termino\n",
    "        p = 2*i-1\n",
    "        termino_1 = (-1)**(i+1) * (z**p)/p\n",
    "        \n",
    "        #Acumulamos\n",
    "        suma_1+= termino_1\n",
    "        \n",
    "        #Definimos la operación para cada termino\n",
    "        p = 2*i-1\n",
    "        termino_2 = (-1)**(i+1) * (y**p)/p\n",
    "        \n",
    "        #Acumulamos\n",
    "        suma_2+= termino_2\n",
    "        \n",
    "        suma = 4*suma_1 - suma_2\n",
    "        \n",
    "        #Definimos la tolerancia\n",
    "        if abs(4*suma-np.pi)< tolerancia:\n",
    "            break\n",
    "        i+=1\n",
    "    return suma,i"
   ]
  },
  {
   "cell_type": "code",
   "execution_count": 16,
   "id": "433f7e51-4129-40fe-bb44-29368ff36330",
   "metadata": {},
   "outputs": [],
   "source": [
    "def arctan_4(x, tolerancia):\n",
    "    \"\"\" \n",
    "    Esta función calcula el valor de la tangente inversa\n",
    "    entrada x valor del argumento\n",
    "    salida tangente inversa y numero de iteraciones\n",
    "    \"\"\"\n",
    "    if x ==1:\n",
    "        z = 1/5\n",
    "        y = 1/239\n",
    "    #inicializamos el contador y el acomulador\n",
    "    suma_1 = 0\n",
    "    suma_2 = 0\n",
    "    i = 1\n",
    "    while True:\n",
    "        #Definimos la operación para cada termino\n",
    "        p = 2*i-1\n",
    "        termino_1 = (-1)**(i+1) * (z**p)/p\n",
    "        \n",
    "        #Acumulamos\n",
    "        suma_1+= termino_1\n",
    "        \n",
    "        #Definimos la operación para cada termino\n",
    "        p = 2*i-1\n",
    "        termino_2 = (-1)**(i+1) * (y**p)/p\n",
    "        \n",
    "        #Acumulamos\n",
    "        suma_2+= termino_2\n",
    "        \n",
    "        suma = 4*suma_1 - suma_2\n",
    "        \n",
    "        #Definimos la tolerancia\n",
    "        if abs(4*suma-np.pi)< tolerancia:\n",
    "            break\n",
    "        i+=1\n",
    "    return suma,i"
   ]
  },
  {
   "cell_type": "code",
   "execution_count": 17,
   "id": "faf5be88-7ff0-4fc4-9039-84f361c35b98",
   "metadata": {},
   "outputs": [
    {
     "data": {
      "text/plain": [
       "(0.7851492573315151, 2)"
      ]
     },
     "execution_count": 17,
     "metadata": {},
     "output_type": "execute_result"
    }
   ],
   "source": [
    "arctan_4(1,1e-3)"
   ]
  },
  {
   "cell_type": "code",
   "execution_count": 18,
   "id": "f19922aa-863b-440a-9a3c-2c8247092f7c",
   "metadata": {},
   "outputs": [
    {
     "data": {
      "text/plain": [
       "(0.7853979430455443, 4)"
      ]
     },
     "execution_count": 18,
     "metadata": {},
     "output_type": "execute_result"
    }
   ],
   "source": [
    "arctan_4(1,1e-6)"
   ]
  },
  {
   "cell_type": "code",
   "execution_count": 20,
   "id": "8b32d079-876c-4a88-bbc6-cabbc4e64cef",
   "metadata": {},
   "outputs": [
    {
     "name": "stdout",
     "output_type": "stream",
     "text": [
      "iteraciones\n",
      "arcotangente metodo 1: 1000001\n",
      "arcotangente metodo 2: 9\n",
      "arcotangente metodo 3: 4\n"
     ]
    }
   ],
   "source": [
    "x , termino_1 = arctan_2(1,1e-6)\n",
    "x , termino_2 = arctan_3(1,1e-6)\n",
    "x , termino_3 = arctan_4(1,1e-6)\n",
    "\n",
    "print(f'iteraciones\\narcotangente metodo 1: {termino_1}\\narcotangente metodo 2: {termino_2}\\narcotangente metodo 3: {termino_3}')\n",
    "\n"
   ]
  },
  {
   "cell_type": "markdown",
   "id": "ca9640b7",
   "metadata": {},
   "source": [
    "# 4. Serie Exponencial\n",
    "Considere la serie para $e^{-x}$\n",
    "\n",
    "$$\n",
    "e^{-x}=\\sum_{n=0}^{N}  (-1)^n \\frac{x^{n}}{n!}\n",
    "$$\n",
    "\n",
    "- Calcula la serie para $x \\le 1$ y compárela con la función incorporada `np.exp(x)` (asuma que la función exponencial incorporada es exacta). Elegir un $N$ para el cual el siguiente término en la serie no sea más que $10^{-7}$ de la suma hasta ese punto.\n",
    "\n",
    "$$\n",
    "\\left| \\frac{(-x)^{N+1}}{(N+1)!} \\right | \\le \\left| 10^{-7} \\sum_{N=0}^{N} \\frac{(-x)^{n}}{n!} \\right|\n",
    "$$\n",
    "\n",
    "- Examine los términos de la serie para $x\\approx 10$ y observa las cancelaciones sustractivas significativas que ocurren cuando términos grandes se suman para dar respuestas pequeñas. En particular, imprime la cancelación casi perfecta en $n \\approx x − 1$.\n",
    "\n",
    "- Compruebe si se obtiene una mejor precisión siendo ingenioso y usando $e^{−x} = \\frac{1}{e^x}$ para valores grandes de $x$. Esto elimina la cancelación sustractiva, pero no elimina todos los errores de redondeo.\n",
    "\n",
    "\n",
    "- Incrementando progresivamente $x$ de 1 a 10, y luego de 10 a 100, use el programa para determinar experimentalmente cuándo la serie comienza a perder precisión, y cuándo la serie ya no converge.\n",
    "\n",
    "\n",
    "- Realice una serie de gráficos del error versus $N$ para diferentes valores de $x$."
   ]
  },
  {
   "cell_type": "code",
   "execution_count": 21,
   "id": "ad34281d",
   "metadata": {},
   "outputs": [],
   "source": [
    "def exp(x, tol= 1e-7, N = 100): #Definimos la función\n",
    "    \n",
    "    Valor_de_la_serie = 0 #Inicializamos el acomulador\n",
    "\n",
    "    for n in range(N): #Hacemos un ciclo que nos calcule la serie \n",
    "        #Calculamos el termino n-simo\n",
    "        Termino = (-1)**n * (x)**n /math.factorial(n)\n",
    "        #Miramos si cumple con la tolerancia\n",
    "        if n> 1 and abs(Termino) <= abs(tol * Valor_de_la_serie):\n",
    "            #Si cumple con la tolerancia retornamos el valor, le restamos porque estamos en el termino N+1\n",
    "            return n-1, Valor_de_la_serie\n",
    "        \n",
    "        #Calculamos la sumas parciales\n",
    "        Valor_de_la_serie+= Termino\n",
    "\n",
    "        \n",
    "    "
   ]
  },
  {
   "cell_type": "code",
   "execution_count": 22,
   "id": "31ddf530-bd87-424f-98d8-9a07d1f01e85",
   "metadata": {},
   "outputs": [
    {
     "name": "stdout",
     "output_type": "stream",
     "text": [
      "El numoero de iteraciones y el valor obtenido con la función es: (10, 0.3678794642857144)\n",
      " con un error de: 2.3114272051927287e-08.\n"
     ]
    }
   ],
   "source": [
    "N, valor = exp(1)\n",
    "print(f'El numoero de iteraciones y el valor obtenido con la función es: {exp(1)}\\n con un error de: {abs(1/np.exp(1) - valor)}.')"
   ]
  },
  {
   "cell_type": "code",
   "execution_count": 23,
   "id": "b0cb6f19-9d52-4068-89ab-120580cb6e2a",
   "metadata": {},
   "outputs": [],
   "source": [
    "def exp_2(x, tol= 1e-7, N = 100): #Definimos la función\n",
    "    lista_terminos = []\n",
    "    Valor_de_la_serie = 0 #Inicializamos el acomulador\n",
    "\n",
    "    for n in range(N): #Hacemos un ciclo que nos calcule la serie \n",
    "        #Calculamos el termino n-simo\n",
    "        Termino = (-1)**n * (x)**n /math.factorial(n)\n",
    "        lista_terminos.append(Termino)\n",
    "        #Miramos si cumple con la tolerancia\n",
    "        if n> 1 and abs(Termino) <= abs(tol * Valor_de_la_serie):\n",
    "            #Si cumple con la tolerancia retornamos el valor, le restamos porque estamos en el termino N+1\n",
    "            return lista_terminos\n",
    "        \n",
    "        #Calculamos la sumas parciales\n",
    "        Valor_de_la_serie+= Termino\n",
    "\n",
    "        \n",
    "    "
   ]
  },
  {
   "cell_type": "code",
   "execution_count": 24,
   "id": "041373a1-4db1-4267-ba4a-3884f317fd3f",
   "metadata": {},
   "outputs": [
    {
     "data": {
      "text/plain": [
       "[<matplotlib.lines.Line2D at 0x18e98f688c0>]"
      ]
     },
     "execution_count": 24,
     "metadata": {},
     "output_type": "execute_result"
    },
    {
     "data": {
      "image/png": "[encoded data removed]",
      "text/plain": [
       "<Figure size 640x480 with 1 Axes>"
      ]
     },
     "metadata": {},
     "output_type": "display_data"
    }
   ],
   "source": [
    "plt.plot(exp_2(9.9999999))"
   ]
  },
  {
   "cell_type": "code",
   "execution_count": 25,
   "id": "a0654e9b-7152-4336-8640-05b0a892062d",
   "metadata": {},
   "outputs": [],
   "source": [
    "def exp_3(x, tol= 1e-7, N = 100): #Definimos la función\n",
    "    lista_terminos = []\n",
    "    Valor_de_la_serie = 0 #Inicializamos el acomulador\n",
    "\n",
    "    for n in range(N): #Hacemos un ciclo que nos calcule la serie \n",
    "        #Calculamos el termino n-simo\n",
    "        Termino = (x)**n /math.factorial(n)\n",
    "        lista_terminos.append(Termino)\n",
    "        #Miramos si cumple con la tolerancia\n",
    "        if n> 1 and abs(Termino) <= abs(tol * Valor_de_la_serie):\n",
    "            #Si cumple con la tolerancia retornamos el valor, le restamos porque estamos en el termino N+1\n",
    "            return lista_terminos\n",
    "        \n",
    "        #Calculamos la sumas parciales\n",
    "        Valor_de_la_serie+= Termino\n"
   ]
  },
  {
   "cell_type": "code",
   "execution_count": 26,
   "id": "c55a2532-389f-46bd-ade1-13401b241215",
   "metadata": {},
   "outputs": [
    {
     "data": {
      "text/plain": [
       "[<matplotlib.lines.Line2D at 0x18e98fa2fc0>]"
      ]
     },
     "execution_count": 26,
     "metadata": {},
     "output_type": "execute_result"
    },
    {
     "data": {
      "image/png": "[encoded data removed]",
      "text/plain": [
       "<Figure size 1000x600 with 1 Axes>"
      ]
     },
     "metadata": {},
     "output_type": "display_data"
    }
   ],
   "source": [
    "plt.figure(figsize = (10,6))\n",
    "plt.plot(exp_3(50))"
   ]
  },
  {
   "cell_type": "markdown",
   "id": "56688fa9",
   "metadata": {},
   "source": [
    "# 5.\n",
    "\n",
    "Supongamos que tenemos una función $f(x)$ y queremos calcular su derivada en un punto $x$. Podemos hacerlo manualmente si conocemos la forma matemática de la función, o podemos hacerlo computacionalmente usando la definición de derivada:\n",
    "\n",
    "$$\n",
    "\\frac{df}{dx} = \\lim_{\\delta \\to 0} \\frac{f(x + \\delta) - f(x)}{\\delta}.\n",
    "$$\n",
    "\n",
    "En el computador no podemos tomar el límite cuando $\\delta$ tiende a cero, pero podemos obtener una aproximación razonable usando valores pequeños de $\\delta$.\n",
    "\n",
    "- Escriba un programa que:\n",
    "    - Defina una función $f(x)$ que retorne el valor $x(x-1)$\n",
    "    - Calcule la derivada de la función en $x = 1$ usando la fórmula anterior con $\\delta = 10^{-2}$\n",
    "    - Compare este resultado con el valor exacto obtenido analíticamente\n",
    "    \n",
    "    Los resultados no coincidirán exactamente. ¿Por qué?\n",
    "    \n",
    "- Repita el cálculo para $\\delta = 10^{-4}, 10^{-6}, 10^{-8}, 10^{-10}, 10^{-12}$, y $10^{-14}$. Observará que la precisión mejora inicialmente al disminuir $\\delta$, pero luego empeora. Explique este comportamiento.\n"
   ]
  },
  {
   "cell_type": "code",
   "execution_count": 27,
   "id": "066104c2",
   "metadata": {},
   "outputs": [],
   "source": [
    "f = lambda x : x*(x-1)\n",
    "\n",
    "def derivada(x,f, landa):\n",
    "    return (f(x + landa) - f(x) )/ landa"
   ]
  },
  {
   "cell_type": "code",
   "execution_count": 28,
   "id": "85d709e6-16db-4c98-b4c3-ca35091a2d81",
   "metadata": {},
   "outputs": [
    {
     "data": {
      "text/plain": [
       "1.010000000000001"
      ]
     },
     "execution_count": 28,
     "metadata": {},
     "output_type": "execute_result"
    }
   ],
   "source": [
    "derivada(1,f,1e-2)"
   ]
  },
  {
   "cell_type": "code",
   "execution_count": 29,
   "id": "21f993ac-3808-4878-a9a3-1d8f4e2761a7",
   "metadata": {},
   "outputs": [],
   "source": [
    "df = lambda x : 2*x-1"
   ]
  },
  {
   "cell_type": "code",
   "execution_count": 30,
   "id": "7c3bda57-b9f8-4fde-b03d-818d239e3c8f",
   "metadata": {},
   "outputs": [
    {
     "data": {
      "text/plain": [
       "1"
      ]
     },
     "execution_count": 30,
     "metadata": {},
     "output_type": "execute_result"
    }
   ],
   "source": [
    "df(1)"
   ]
  },
  {
   "cell_type": "code",
   "execution_count": 31,
   "id": "32ffef3d-7c24-4c2c-ba6f-97c663abd44a",
   "metadata": {},
   "outputs": [],
   "source": [
    "delta = np.logspace(-14,-4,6)"
   ]
  },
  {
   "cell_type": "code",
   "execution_count": 33,
   "id": "3551803a-3fcc-43c6-9458-6d1a8be87fb0",
   "metadata": {},
   "outputs": [],
   "source": [
    "derivadas = derivada(1,f,delta)"
   ]
  },
  {
   "cell_type": "code",
   "execution_count": 35,
   "id": "f8dffb50-ad1a-4e5d-8ada-41f7ff03899f",
   "metadata": {},
   "outputs": [
    {
     "data": {
      "text/plain": [
       "Text(0.5, 0, '$\\\\delta$')"
      ]
     },
     "execution_count": 35,
     "metadata": {},
     "output_type": "execute_result"
    },
    {
     "data": {
      "image/png": "[encoded data removed]",
      "text/plain": [
       "<Figure size 640x480 with 1 Axes>"
      ]
     },
     "metadata": {},
     "output_type": "display_data"
    }
   ],
   "source": [
    "plt.plot(delta,derivadas)\n",
    "plt.xscale('log')\n",
    "plt.ylabel('$\\\\frac{df}{dx}$')\n",
    "plt.xticks(delta)\n",
    "plt.xlabel('$\\\\delta$')\n"
   ]
  },
  {
   "cell_type": "code",
   "execution_count": null,
   "id": "50320995-c53b-4b65-9a1b-17807e790aa9",
   "metadata": {},
   "outputs": [],
   "source": []
  }
 ],
 "metadata": {
  "kernelspec": {
   "display_name": "Python 3 (ipykernel)",
   "language": "python",
   "name": "python3"
  },
  "language_info": {
   "codemirror_mode": {
    "name": "ipython",
    "version": 3
   },
   "file_extension": ".py",
   "mimetype": "text/x-python",
   "name": "python",
   "nbconvert_exporter": "python",
   "pygments_lexer": "ipython3",
   "version": "3.12.10"
  }
 },
 "nbformat": 4,
 "nbformat_minor": 5
}
