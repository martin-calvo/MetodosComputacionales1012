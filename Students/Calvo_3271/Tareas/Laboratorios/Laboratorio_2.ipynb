{
  "nbformat": 4,
  "nbformat_minor": 0,
  "metadata": {
    "colab": {
      "provenance": []
    },
    "kernelspec": {
      "name": "python3",
      "display_name": "Python 3"
    },
    "language_info": {
      "name": "python"
    }
  },
  "cells": [
    {
      "cell_type": "markdown",
      "source": [
        "# 1.\n",
        "Cree una función llamada `myint` pero que a partir de un número binario con base de 16 bits encuentre el entero correspondiente. Compare su resultado con `int(0b1000011100001)`\n"
      ],
      "metadata": {
        "id": "92DYByxK9dpC"
      }
    },
    {
      "cell_type": "code",
      "source": [
        "def myint(bin):\n",
        "  num=str(bin)\n",
        "  suma=0\n",
        "  for i in range(1,len(num)+1):\n",
        "    suma+=(2**(int(i-1)))*(int(num[-i]))\n",
        "  return suma\n",
        "myint(1000011100001)==int(0b1000011100001)"
      ],
      "metadata": {
        "id": "ufeW3kEj9eQ7"
      },
      "execution_count": null,
      "outputs": []
    },
    {
      "cell_type": "markdown",
      "source": [
        "# 2.\n",
        "Generar una función llamada `number64` para flotantes de precisión doble (64bits) donde a partir de un número binario encuentre el valor real. Compruebe su solución usando\n",
        "\n",
        "```\n",
        "number64(\"0100000000111011100100001111111111111111111111111111111111111111\")\n",
        "```"
      ],
      "metadata": {
        "id": "jaESo_uE9iNe"
      }
    },
    {
      "cell_type": "code",
      "source": [
        "def number64(num):\n",
        "  exp=-1023\n",
        "  mantisa=1\n",
        "  for i in range(1,12):\n",
        "    exp+=int(num[12-i])*(2**(i-1))\n",
        "\n",
        "\n",
        "  for i in range(12,len(num)):\n",
        "    mantisa+=int(num[i])*(2**(-(i-11)))\n",
        "\n",
        "  if num[0]==\"1\":\n",
        "    return -(mantisa*(2**exp))\n",
        "  else:\n",
        "    return(mantisa*(2**exp))\n",
        "\n",
        "\n",
        "number64(\"0100000000111011100100001111111111111111111111111111111111111111\")"
      ],
      "metadata": {
        "id": "zcHo5WaX9kvr",
        "colab": {
          "base_uri": "https://localhost:8080/"
        },
        "outputId": "247ca9af-015f-4e25-902c-dcb7c15cb999"
      },
      "execution_count": null,
      "outputs": [
        {
          "output_type": "execute_result",
          "data": {
            "text/plain": [
              "27.566406249999996"
            ]
          },
          "metadata": {},
          "execution_count": 67
        }
      ]
    },
    {
      "cell_type": "markdown",
      "source": [
        "# 3. Aproximación de $\\pi$\n",
        "\n",
        "La serie de Maclaurin para la función tangente inversa converge en $-1 < x \\leq 1$ y está dada por:\n",
        "\n",
        "$$\n",
        "\\arctan x = \\lim_{n \\to \\infty} P_n(x) = \\lim_{n \\to \\infty} \\sum_{i=1}^n (-1)^{i+1} \\frac{x^{2i-1}}{2i-1}\n",
        "$$\n",
        "\n",
        "- **Aproximación básica**\n",
        "    - Utilizando el hecho de que $\\tan(\\pi/4) = 1$, implemente en Python una función que calcule $4P_n(1)$ y determina el número mínimo de términos $n$ necesarios para que $|4P_n(1) - \\pi| < 10^{-3}$. Compare su resultado con el valor de $\\pi$ de la librería math.\n",
        "    - Requiriendo que el valor de $\\pi$ esté dentro de un error de $10^{-4}$. ¿Cuántos términos de la serie se necesitaría sumar para obtener esta precisión? Implemente una solución en Python para encontrar este valor.\n",
        "- **Mejora de la convergencia**\n",
        "    El método anterior puede mejorarse significativamente usando la identidad:\n",
        "    $$\n",
        "    \\frac{\\pi}{4} = \\arctan\\left(\\frac{1}{2}\\right) + \\arctan\\left(\\frac{1}{3}\\right)\n",
        "    $$\n",
        "    - Implemente en Python una función que evalúe la serie para $\\arctan(1/2)$ y $\\arctan(1/3)$ por separado y luego las sume. Determine el número mínimo de términos necesarios para cada serie (pueden ser diferentes) para aproximar $\\pi$ con un error menor a $10^{-3}$ y $10^{-6}$.\n",
        "\n",
        "- **Método de alta precisión**\n",
        "    Para obtener una convergencia aún más rápida, usamos la identidad:\n",
        "    $$\n",
        "    \\frac{\\pi}{4} = 4\\arctan\\left(\\frac{1}{5}\\right) - \\arctan\\left(\\frac{1}{239}\\right)\n",
        "    $$\n",
        "    Desarrolle un programa en Python que implemente esta fórmula y determine:\n",
        "    - El número mínimo de términos necesarios en cada serie para aproximar $\\pi$ con error menor a $10^{-3}$ y $10^{-6}$.\n",
        "    - Compare el rendimiento (número de términos requeridos) con los métodos anteriores."
      ],
      "metadata": {
        "id": "2JgKoiY39lE6"
      }
    },
    {
      "cell_type": "code",
      "source": [
        "import numpy as np\n",
        "\n",
        "\n",
        "def arctan(x,tol=1e-5,maxiter=100):\n",
        "  \"\"\"\n",
        "Esto calcula arcotangente de cualquier x tq -1 < x < 1\n",
        "  \"\"\"\n",
        "  suma=0\n",
        "  iteraciones=0\n",
        "  for i in range(1,maxiter+1):\n",
        "    suma+=((-1)**(i+1))*(((x**(2*i-1))/(2*i-1)))\n",
        "    iteraciones+=1\n",
        "    if abs((-1)**(i+1))*(((x**(2*i-1))/(2*i-1)))<tol:\n",
        "      return suma,iteraciones\n",
        "  raise RuntimeError(\"Demasiadas iteraciones\")\n",
        "\n",
        "\n",
        "\n",
        "\n",
        "def pi(x,tol, maxiter=40000):\n",
        "\n",
        "  \"\"\"\n",
        "Método Básico para calcular pi\n",
        "  \"\"\"\n",
        "  suma=0\n",
        "  iteraciones=0\n",
        "  for i in range(1,maxiter+1):\n",
        "    suma+=((-1)**(i+1))*(((x**(2*i-1))/(2*i-1)))\n",
        "    iteraciones+=1\n",
        "    if abs(4*suma-np.pi)<tol:\n",
        "      return 4*suma,iteraciones\n",
        "  raise RuntimeError(\"Demasiadas iteraciones\")\n",
        "\n",
        "pie3=pi(1,1e-3)[0]\n",
        "pie4=pi(1,1e-4)[0]\n",
        "print(f\"Usando la aproximación básica, el valor de pi con tolerancia 10^-3 es {pie3}, con {pi(1,1e-3)[1]} iteraciones. Con tolerancia 10^-4 es {pie4}, con {pi(1,1e-4)[1]} iteraciones\")\n",
        "\n",
        "\n",
        "def meto2(x,tol,maxiter=40000):\n",
        "  suma=0\n",
        "  iteraciones=0\n",
        "  for i in range(1,maxiter+1):\n",
        "    suma+=((-1)**(i+1))*(((x**(2*i-1))/(2*i-1)))\n",
        "    iteraciones+=1\n",
        "    if abs(4*(arctan(1/2)[0]+arctan(1/3)[0])-4*suma)<tol:\n",
        "      return 4*suma,iteraciones\n",
        "  raise RuntimeError(\"Demasiadas iteraciones\")\n",
        "print(f\"Usando la aproximación mejorada, el valor de pi con tolerancia 10^-3 es {meto2(1,1e-3)[0]}, con {meto2(1,1e-3)[1]} iteraciones. Con tolerancia 10^-4 es {meto2(1,1e-4)}, con {meto2(1,1e-4)[1]} iteraciones\")\n",
        "\n",
        "def meto3(x,tol,maxiter=10000):\n",
        "  suma=0\n",
        "  iteraciones=0\n",
        "  for i in range(1,maxiter+1):\n",
        "    suma+=((-1)**(i+1))*(((x**(2*i-1))/(2*i-1)))\n",
        "    iteraciones+=1\n",
        "    if abs(4*(4*arctan(1/5)[0]-arctan(1/239)[0])-4*suma)<tol:\n",
        "      return 4*suma,iteraciones\n",
        "  raise RuntimeError(\"Demasiadas iteraciones\")\n",
        "print(f\"Usando el 'método de alta precisión', el valor de pi con tolerancia 10^-3 es {meto3(1,1e-3)[0]}, con {meto3(1,1e-3)[1]} iteraciones. Con tolerancia 10^-4 es {meto3(1,1e-4)}, con {meto3(1,1e-4)[1]} iteraciones\")\n"
      ],
      "metadata": {
        "id": "hC8Xbeli9nXa",
        "colab": {
          "base_uri": "https://localhost:8080/"
        },
        "outputId": "f786b647-6bb7-4c82-e69a-2ca26a30b5e5"
      },
      "execution_count": 2,
      "outputs": [
        {
          "output_type": "stream",
          "name": "stdout",
          "text": [
            "Usando la aproximación básica, el valor de pi con tolerancia 10^-3 es 3.140592653839794, con 1000 iteraciones. Con tolerancia 10^-4 es 3.1414926535900345, con 10000 iteraciones\n",
            "Usando la aproximación mejorada, el valor de pi con tolerancia 10^-3 es 3.1425997026798886, con 993 iteraciones. Con tolerancia 10^-4 es (3.1417011958666783, 9213), con 9213 iteraciones\n",
            "Usando el 'método de alta precisión', el valor de pi con tolerancia 10^-3 es 3.140592653839794, con 1000 iteraciones. Con tolerancia 10^-4 es (3.1414917861298832, 9914), con 9914 iteraciones\n"
          ]
        }
      ]
    },
    {
      "cell_type": "code",
      "source": [],
      "metadata": {
        "id": "10GbaUrGWuI4"
      },
      "execution_count": null,
      "outputs": []
    },
    {
      "cell_type": "markdown",
      "source": [
        "# 4. Serie Exponencial\n",
        "Considere la serie para $e^{-x}$\n",
        "\n",
        "$$\n",
        "e^{-x}=\\sum_{n=0}^{N}  (-1)^n \\frac{x^{n}}{n!}\n",
        "$$\n",
        "\n",
        "- Calcula la serie para $x \\le 1$ y compárela con la función incorporada `np.exp(x)` (asuma que la función exponencial incorporada es exacta). Elegir un $N$ para el cual el siguiente término en la serie no sea más que $10^{-7}$ de la suma hasta ese punto.\n",
        "\n",
        "$$\n",
        "\\left| \\frac{(-x)^{N+1}}{(N+1)!} \\right | \\le \\left| 10^{-7} \\sum_{N=0}^{N} \\frac{(-x)^{n}}{n!} \\right|\n",
        "$$\n",
        "\n",
        "- Examine los términos de la serie para $x\\approx 10$ y observa las cancelaciones sustractivas significativas que ocurren cuando términos grandes se suman para dar respuestas pequeñas. En particular, imprime la cancelación casi perfecta en $n \\approx x − 1$.\n",
        "\n",
        "- Compruebe si se obtiene una mejor precisión siendo ingenioso y usando $e^{−x} = \\frac{1}{e^x}$ para valores grandes de $x$. Esto elimina la cancelación sustractiva, pero no elimina todos los errores de redondeo.\n",
        "\n",
        "\n",
        "- Incrementando progresivamente $x$ de 1 a 10, y luego de 10 a 100, use el programa para determinar experimentalmente cuándo la serie comienza a perder precisión, y cuándo la serie ya no converge.\n",
        "\n",
        "\n",
        "- Realice una serie de gráficos del error versus $N$ para diferentes valores de $x$."
      ],
      "metadata": {
        "id": "65BcRl0j9qE4"
      }
    },
    {
      "cell_type": "code",
      "source": [
        "from math import factorial\n",
        "import matplotlib.pyplot as plt\n",
        "\n",
        "def emx1(x,tol=1e-7,maxiter=5000):\n",
        "  suma=0\n",
        "  term=[]\n",
        "  for i in range(0,maxiter):\n",
        "    suma+=((-x)**i)/(factorial(i))\n",
        "    term.append(((-x)**i)/(factorial(i)))\n",
        "    if abs(((-x)**(i+1))/(factorial(i+1)))<=suma*tol:\n",
        "      return suma, term\n",
        "print(f\"La serie evaluada en 1 converge a {emx1(1)[0]} , tras {len(emx1(1)[1])} iteraciones. El error porcentual respecto al valor de numpy es {round(((emx1(1)[0]-np.exp(-1))/np.exp(-1))*100, 5)}%\")\n",
        "\n",
        "def emx2(x,tol=1e-7,maxiter=5000):\n",
        "  suma=0\n",
        "  term=[]\n",
        "  for i in range(0,maxiter):\n",
        "    suma+=((x)**i)/(factorial(i))\n",
        "    term.append(suma)\n",
        "    if abs(((-x)**(i+1))/(factorial(i+1)))<=suma*tol:\n",
        "      return suma, term\n",
        "print(f\"La serie evaluada en 1 con el otro método converge a {1/emx2(1)[0]} , tras {len(emx2(1)[1])} iteraciones. El error porcentual respecto al valor de numpy es {round(((1/emx2(1)[0]-1/np.exp(1))/(1/np.exp(1)))*100, 7)}%, menos error que de la otra forma con las mismas iteraciones.\") #Efectivamente el error es menor al hacerlo fracción\n",
        "\n",
        "print(f\"La serie que representa e^10 converge a {emx2(10)[0]} , tras {len(emx2(1)[1])} iteraciones. El error porcentual respecto al valor de numpy es {abs(round(((emx2(10)[0]-np.exp(10))/np.exp(10))*100, 6))}%\")\n",
        "\n",
        "print(emx1(10)[1][9]+emx1(10)[1][10]) #Se restan los términos\n",
        "\n",
        "tol=[1e-1,1e-2,1e-3,1e-4,1e-5,1e-6,1e-7,1e-8,1e-9]\n",
        "N1=[]  #Las iteraciones dependen de la tolerancia\n",
        "N2=[]\n",
        "N3=[]\n",
        "N4=[]\n",
        "error1=[]\n",
        "error2=[]\n",
        "error3=[]\n",
        "error4=[]\n",
        "for i in tol:\n",
        "  N1.append(len(emx2(1,i)[1]))  #Se agregan a las listas los valores de N y el error correspondiente para cada una de las tolerancias\n",
        "  N2.append(len(emx2(np.e,i)[1]))\n",
        "  N3.append(len(emx2(6,i)[1]))\n",
        "  N4.append(len(emx2(11,i)[1]))\n",
        "  error1.append(abs((emx2(1,i)[0]-np.exp(1))/(np.exp(1)))*100)\n",
        "  error2.append(abs((emx2(np.e,i)[0]-np.exp(np.e))/(np.exp(np.e)))*100)\n",
        "  error3.append(abs((emx2(6,i)[0]-np.exp(6))/(np.exp(6)))*100)\n",
        "  error4.append(abs((emx2(11,i)[0]-np.exp(11))/(np.exp(11)))*100)\n",
        "\n",
        "plt.semilogy(N1,error1,label=\"$e^1$\")\n",
        "plt.semilogy(N2,error2,label=\"$e^e$\")\n",
        "plt.semilogy(N3,error3,label=\"$e^6$\")\n",
        "plt.semilogy(N4,error4,label=\"$e^{11}$\")\n",
        "\n",
        "plt.title(\"Error en función de iteraciones necesarias \")\n",
        "plt.xlabel(\"Iteraciones\")\n",
        "plt.ylabel(\"Error porcentual\")\n",
        "plt.legend()\n",
        "plt.show()\n",
        "print(np.exp(1),np.exp(np.e),np.exp(6),np.exp(11))\n"
      ],
      "metadata": {
        "id": "uK1A-e049qfC",
        "colab": {
          "base_uri": "https://localhost:8080/",
          "height": 579
        },
        "outputId": "8ddf0ea3-0c08-4bd0-a715-51ffb6ea63da"
      },
      "execution_count": 9,
      "outputs": [
        {
          "output_type": "stream",
          "name": "stdout",
          "text": [
            "La serie evaluada en 1 converge a 0.3678794642857144 , tras 11 iteraciones. El error porcentual respecto al valor de numpy es 1e-05%\n",
            "La serie evaluada en 1 con el otro método converge a 0.36787944486780905 , tras 11 iteraciones. El error porcentual respecto al valor de numpy es 1e-06%, menos error que de la otra forma con las mismas iteraciones.\n",
            "La serie que representa e^10 converge a 22026.464036258916 , tras 11 iteraciones. El error porcentual respecto al valor de numpy es 8e-06%\n",
            "0.0\n"
          ]
        },
        {
          "output_type": "display_data",
          "data": {
            "text/plain": [
              "<Figure size 640x480 with 1 Axes>"
            ],
            "image/png": "[encoded data removed]"
          },
          "metadata": {}
        },
        {
          "output_type": "stream",
          "name": "stdout",
          "text": [
            "2.718281828459045 15.154262241479262 403.4287934927351 59874.14171519782\n"
          ]
        }
      ]
    },
    {
      "cell_type": "markdown",
      "source": [
        "# 5.\n",
        "\n",
        "Supongamos que tenemos una función $f(x)$ y queremos calcular su derivada en un punto $x$. Podemos hacerlo manualmente si conocemos la forma matemática de la función, o podemos hacerlo computacionalmente usando la definición de derivada:\n",
        "\n",
        "$$\n",
        "\\frac{df}{dx} = \\lim_{\\delta \\to 0} \\frac{f(x + \\delta) - f(x)}{\\delta}.\n",
        "$$\n",
        "\n",
        "En el computador no podemos tomar el límite cuando $\\delta$ tiende a cero, pero podemos obtener una aproximación razonable usando valores pequeños de $\\delta$.\n",
        "\n",
        "- Escriba un programa que:\n",
        "    - Defina una función $f(x)$ que retorne el valor $x(x-1)$\n",
        "    - Calcule la derivada de la función en $x = 1$ usando la fórmula anterior con $\\delta = 10^{-2}$\n",
        "    - Compare este resultado con el valor exacto obtenido analíticamente\n",
        "    \n",
        "    Los resultados no coincidirán exactamente. ¿Por qué?\n",
        "    \n",
        "- Repita el cálculo para $\\delta = 10^{-4}, 10^{-6}, 10^{-8}, 10^{-10}, 10^{-12}$, y $10^{-14}$. Observará que la precisión mejora inicialmente al disminuir $\\delta$, pero luego empeora. Explique este comportamiento.\n"
      ],
      "metadata": {
        "id": "ksHJLe9Z9swW"
      }
    },
    {
      "cell_type": "code",
      "source": [
        "import matplotlib.pyplot as plt\n",
        "import numpy as np\n",
        "f=lambda x: x*(x-1)\n",
        "def df(f,x, tol):\n",
        "  return (f(x+tol)-f(x))/tol\n",
        "dos=df(f,1,1e-2)\n",
        "cuatro=df(f,1,1e-4)  #La derivada evaluada en 1 debe dar 1 (2-1)\n",
        "seis=df(f,1,1e-6)\n",
        "ocho=df(f,1,1e-8) #esta es la que da la mejor aproximación\n",
        "diez=df(f,1,1e-10)\n",
        "doce=df(f,1,1e-12)\n",
        "catorce=df(f,1,1e-14)\n",
        "print(dos, cuatro,seis,ocho,diez,doce,catorce)\n",
        "tols=[1e-2,1e-4,1e-6,1e-8,1e-10,1e-12,1e-14]\n",
        "val=[dos,cuatro,seis,ocho,diez,doce,catorce]\n",
        "\n",
        "error=[]\n",
        "for i in val:\n",
        "  error.append(f\"{round(abs(i-1)*100,7)}%\")\n",
        "print(\"Lista de errores porcentuales\", error, \"Los resultados no coinciden exactamente porque el computador no puede evaluar límites, solo evaluar para números muy, muy pequeños\")\n",
        "#El comportamiento extraño que hace que disminuya y luego aumente es porque para valores muy grandes de δ la diferencia en el numerador es demasiado grande, pero para valores demasiado pequeños de δ el valor de la derivada vuelve a crecer, porque a un denominador más pequeño un valor más grande\n",
        "#Debe ser posible encontrar un valor óptimo de δ para que esté lo más cerca posible de la derivada sin que el error vuelva a aumentar"
      ],
      "metadata": {
        "id": "VZ43avWY9tUa",
        "colab": {
          "base_uri": "https://localhost:8080/"
        },
        "outputId": "da89e8e8-6e2c-4b19-e38d-a0618ec45a35"
      },
      "execution_count": null,
      "outputs": [
        {
          "output_type": "stream",
          "name": "stdout",
          "text": [
            "1.010000000000001 1.0000999999998899 1.0000009999177333 1.0000000039225287 1.000000082840371 1.0000889005833413 0.9992007221626509\n",
            "Lista de errores porcentuales ['1.0%', '0.01%', '0.0001%', '4e-07%', '8.3e-06%', '0.0088901%', '0.0799278%'] Los resultados no coinciden exactamente porque el computador no puede evaluar límites, solo evaluar para números muy, muy pequeños\n"
          ]
        }
      ]
    },
    {
      "cell_type": "code",
      "source": [],
      "metadata": {
        "id": "WzSFtxvFJQPL"
      },
      "execution_count": null,
      "outputs": []
    }
  ]
}