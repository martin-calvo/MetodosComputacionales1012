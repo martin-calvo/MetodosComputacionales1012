{
  "nbformat": 4,
  "nbformat_minor": 0,
  "metadata": {
    "colab": {
      "provenance": [],
      "include_colab_link": true
    },
    "kernelspec": {
      "name": "python3",
      "display_name": "Python 3"
    },
    "language_info": {
      "name": "python"
    }
  },
  "cells": [
    {
      "cell_type": "markdown",
      "metadata": {
        "id": "view-in-github",
        "colab_type": "text"
      },
      "source": [
        "<a href=\"https://colab.research.google.com/github/arthursuc/MetodosComputacionales1012/blob/main/Students/Arthur_1047/Actividad_PythonB%C3%A1sico.ipynb\" target=\"_parent\"><img src=\"https://colab.research.google.com/assets/colab-badge.svg\" alt=\"Open In Colab\"/></a>"
      ]
    },
    {
      "cell_type": "markdown",
      "source": [
        "# Actividad: Introducción a Python (sin librerías)\n",
        "\n",
        "---"
      ],
      "metadata": {
        "id": "ym3QAv5yfZSO"
      }
    },
    {
      "cell_type": "markdown",
      "source": [
        "## Problema 1: Números primos entre 2 y 50 con la Criba de Eratóstenes\n",
        "\n",
        "La **Criba de Eratóstenes** es un método eficiente para encontrar todos los números primos menores que un número dado. El algoritmo consiste en:\n",
        "\n",
        "1. Crear una lista de valores booleanos para representar los números del 2 al 50, todos inicialmente marcados como verdaderos.\n",
        "2. Comenzando desde el primer número primo (2), eliminar todos sus múltiplos (marcándolos como falsos).\n",
        "3. Repetir el proceso para el siguiente número no eliminado.\n",
        "4. Los números que permanezcan marcados como verdaderos son primos.\n",
        "\n",
        "Usando funciones, implementa este método y muestra en pantalla todos los números primos entre 2 y 50.\n",
        "\n"
      ],
      "metadata": {
        "id": "W0C9oNGXfwDj"
      }
    },
    {
      "cell_type": "code",
      "source": [
        "#Aqui va su código\n",
        "def criba(n):\n",
        "\n",
        "    if n <= 1:\n",
        "        return []\n",
        "    es_primo = [True] * (n + 1)\n",
        "    es_primo[0] = es_primo[1] = False\n",
        "\n",
        "    for i in range(2, int(n**0.5) + 1):\n",
        "        if es_primo[i]:\n",
        "            for j in range(i * i, n + 1, i):\n",
        "                es_primo[j] = False\n",
        "\n",
        "    primos = [i for i in range(2, n + 1) if es_primo[i]]\n",
        "\n",
        "    return primos"
      ],
      "metadata": {
        "id": "GIk3OsqxfZ50"
      },
      "execution_count": 3,
      "outputs": []
    },
    {
      "cell_type": "code",
      "source": [
        "x = criba(50)\n",
        "print(x)"
      ],
      "metadata": {
        "id": "qFHHIXtnqmjS",
        "outputId": "d4521373-f0c8-4d16-dc0f-8fd9f3214691",
        "colab": {
          "base_uri": "https://localhost:8080/"
        }
      },
      "execution_count": 5,
      "outputs": [
        {
          "output_type": "stream",
          "name": "stdout",
          "text": [
            "[2, 3, 5, 7, 11, 13, 17, 19, 23, 29, 31, 37, 41, 43, 47]\n"
          ]
        }
      ]
    },
    {
      "cell_type": "markdown",
      "source": [
        "## Problema 2: Aproximación de π usando la serie de Leibniz\n",
        "\n",
        "La serie de Leibniz es una forma sencilla de aproximar el valor de π:\n",
        "\n",
        "$$\n",
        "\\pi \\approx 4 \\sum_{n=0}^{N} \\frac{(-1)^n}{2n + 1}\n",
        "$$\n",
        "\n",
        "Implementa una función que realice este calculo y muestra la aproximación para distintos valores de $N$ (por ejemplo: 10, 100, 1000, 10000)."
      ],
      "metadata": {
        "id": "WzI-FhIWf2iJ"
      }
    },
    {
      "cell_type": "code",
      "source": [],
      "metadata": {
        "id": "hSnMUjTEqlgC"
      },
      "execution_count": null,
      "outputs": []
    },
    {
      "cell_type": "code",
      "source": [
        "#Aqui va su código\n",
        "def picalculo(N):\n",
        "  pi=0\n",
        "  for i in range (N):\n",
        "    aux = (-1)**i/((2*i)+1)\n",
        "    pi+=aux\n",
        "  return 4*pi"
      ],
      "metadata": {
        "id": "DfVwDvrRf7Fz"
      },
      "execution_count": 11,
      "outputs": []
    },
    {
      "cell_type": "code",
      "source": [
        "pi = picalculo(1000)\n",
        "print(pi)"
      ],
      "metadata": {
        "id": "PeWIJFBXreUR",
        "outputId": "013eefe3-d682-4bed-8e96-b6dc9bb760e0",
        "colab": {
          "base_uri": "https://localhost:8080/"
        }
      },
      "execution_count": 12,
      "outputs": [
        {
          "output_type": "stream",
          "name": "stdout",
          "text": [
            "3.140592653839794\n"
          ]
        }
      ]
    },
    {
      "cell_type": "markdown",
      "source": [
        "## Problema 3: Números amigos en un rango dado\n",
        "\n",
        "Dos números naturales $a$ y $b$ se llaman **números amigos** si la suma de los divisores propios (excluyendo el número mismo) de $a$ es igual a $b$, y viceversa.\n",
        "\n",
        "Por ejemplo, 220 y 284 son números amigos porque:\n",
        "- Los divisores propios de 220 son: 1, 2, 4, 5, 10, 11, 20, 22, 44, 55, 110 → suma: 284\n",
        "- Los divisores propios de 284 son: 1, 2, 4, 71, 142 → suma: 220\n",
        "\n",
        "Escribe un programa que encuentre todos los pares de números amigos en un rango dado por el usuario (por ejemplo, entre 1 y 10000)."
      ],
      "metadata": {
        "id": "Z1-gsRbNf7jy"
      }
    },
    {
      "cell_type": "code",
      "source": [
        "#Aqui va su código\n",
        "def divisorespropios(x):\n",
        "  divisores = []\n",
        "  count =1\n",
        "  while(count < x/2 +1):\n",
        "    if(x%count==0):\n",
        "      divisores.append(count)\n",
        "    count+=1\n",
        "  return divisores\n",
        "\n",
        "def sumadivisores(numero):\n",
        "  suma = 0\n",
        "  lista1 = divisorespropios(numero)\n",
        "  for x in lista1:\n",
        "    suma+=x\n",
        "  return suma\n",
        "\n",
        "def calcularamigos(num1,num2):\n",
        "  for i in range(num1,num2):\n",
        "    auxsuma=sumadivisores(i)\n",
        "    for k in range(num1,num2):\n",
        "      if(k==auxsuma and sumadivisores(k)==i and k>i):\n",
        "        print(k,i)\n",
        "\n",
        "calcularamigos(60,10000)"
      ],
      "metadata": {
        "id": "m87mKCXlgGjN",
        "outputId": "9b7e1649-470b-4b30-f824-97accb4d99f8",
        "colab": {
          "base_uri": "https://localhost:8080/"
        }
      },
      "execution_count": 16,
      "outputs": [
        {
          "output_type": "stream",
          "name": "stdout",
          "text": [
            "284 220\n",
            "1210 1184\n",
            "2924 2620\n",
            "5564 5020\n",
            "6368 6232\n"
          ]
        }
      ]
    },
    {
      "cell_type": "markdown",
      "source": [
        "\n",
        "## Problema 4: Contador de frecuencias de letras en una palabra\n",
        "\n",
        "Escribe un programa que lea una palabra ingresada por el usuario y construya un diccionario donde cada clave sea una letra de la palabra, y el valor asociado sea la cantidad de veces que esa letra aparece. Imprime el resultado.\n"
      ],
      "metadata": {
        "id": "ASKmJNuBgHIp"
      }
    },
    {
      "cell_type": "code",
      "source": [
        "#Aqui va su código\n",
        "palabra=input(\"elige la palabra\")\n",
        "thisdict = {\n",
        "}\n",
        "for i in palabra:\n",
        "  count = 0\n",
        "  for k in palabra:\n",
        "    if(k==i):\n",
        "      count+=1\n",
        "  thisdict[i] = count\n",
        "print(thisdict)"
      ],
      "metadata": {
        "id": "klMGSddPgUQ5",
        "outputId": "136ad8f8-5557-416b-d25a-a3e3745de216",
        "colab": {
          "base_uri": "https://localhost:8080/"
        }
      },
      "execution_count": 24,
      "outputs": [
        {
          "output_type": "stream",
          "name": "stdout",
          "text": [
            "elige la palbrajijijij\n",
            "{'j': 4, 'i': 3}\n"
          ]
        }
      ]
    },
    {
      "cell_type": "code",
      "source": [],
      "metadata": {
        "id": "PnEXHl8Duy-K"
      },
      "execution_count": 24,
      "outputs": []
    }
  ]
}