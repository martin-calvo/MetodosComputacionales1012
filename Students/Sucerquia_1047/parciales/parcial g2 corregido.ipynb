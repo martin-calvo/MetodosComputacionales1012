{
  "nbformat": 4,
  "nbformat_minor": 0,
  "metadata": {
    "colab": {
      "provenance": []
    },
    "kernelspec": {
      "name": "python3",
      "display_name": "Python 3"
    },
    "language_info": {
      "name": "python"
    }
  },
  "cells": [
    {
      "cell_type": "markdown",
      "source": [
        "# Parcial I - Métodos Computacionales\n",
        "\n",
        "**2025-1**\n",
        "\n",
        "---\n",
        "\n",
        "Nombre:\n",
        "\n",
        "Identificación:\n",
        "\n",
        "---\n",
        "\n",
        "* ⚠ Explique su código usando con comentarios,\n",
        "\n",
        "* ❗Todas las funciones deben tener documentación básica,\n",
        "\n",
        "* 🛑 El uso de IA's no está permitido,\n",
        "\n",
        "* ⚛ La interpretación del enunciado hace parte de la evaluación,\n",
        "\n",
        "* ⏲ Este parcial tiene una duración de 2 horas"
      ],
      "metadata": {
        "id": "bcIQtfNJ4sBq"
      }
    },
    {
      "cell_type": "code",
      "source": [
        "# Librerias útiles\n",
        "import numpy as np\n",
        "import matplotlib.pyplot as plt\n",
        "import pandas as pd\n",
        "import math as math\n",
        "from scipy.optimize import root_scalar, newton, bisect # Funciones para raices\n",
        "\n",
        "## Ayudas\n",
        "# np.sign (Signo de una variable)\n",
        "# np.deg2rad (Convertir grados a radianes)\n",
        "# pd.Dataframe Genera un dataframe a partir de un diccionario o listas\n",
        "# range(0, 10, 2) (Pasos de 2 comenzando en 0 hasta 10)"
      ],
      "metadata": {
        "id": "-86TwvuE48Kp"
      },
      "execution_count": 5,
      "outputs": []
    },
    {
      "cell_type": "markdown",
      "source": [
        "# 1\n",
        "\n",
        "**(40 puntos)** El **método de Ridder** es un algoritmo de búsqueda de raíces que, como la bisección, requiere un intervalo $[a, b]$ tal que $f(a) \\cdot f(b) < 0$. A diferencia de la bisección, Ridder introduce una corrección exponencial para acelerar la convergencia, logrando **convergencia cuadrática** sin requerir derivadas.\n",
        "\n",
        "---\n",
        "### Pasos para implementar\n",
        "\n",
        "1. **Definir la función** $f(x)$ y un intervalo $[a, b]$ tal que:\n",
        "\n",
        "   - $f(a) \\cdot f(b) < 0$ (la función tiene signos opuestos en los extremos del intervalo).\n",
        "   - La función debe ser continua en $[a, b]$.\n",
        "\n",
        "2. **Calcular el punto medio**:\n",
        "\n",
        "   $$\n",
        "   m = \\frac{a + b}{2}\n",
        "   $$\n",
        "\n",
        "3. **Calcular la corrección exponencial**:\n",
        "\n",
        "   - Evaluar $f(a)$, $f(b)$ y $f(m)$.\n",
        "   - Calcular:\n",
        "\n",
        "     $$\n",
        "     s = \\sqrt{f(m)^2 - f(a) f(b)}\n",
        "     $$\n",
        "\n",
        "   - Si $s = 0$, detener: la raíz no puede estimarse en esta iteración.\n",
        "\n",
        "   - Calcular el nuevo candidato a raíz:\n",
        "\n",
        "     $$\n",
        "     x = m + \\frac{(m - a) f(m)}{s} \\cdot \\text{sign}(f(a) - f(b))\n",
        "     $$\n",
        "\n",
        "4. **Evaluar $f(x)$** y actualizar el intervalo:\n",
        "\n",
        "   - Si $f(m) \\cdot f(x) < 0$, entonces la nueva raíz está entre $m$ y $x$.\n",
        "   - Si $f(a) \\cdot f(x) < 0$, entonces actualizar $b = x$, luego $f(b) = f(x)$.\n",
        "   - Si $f(b) \\cdot f(x) < 0$, entonces actualizar $a = x$, luego $f(a) = f(x)$.\n",
        "   - En cada paso mantener la condición $f(a) \\cdot f(b) < 0$.\n",
        "\n",
        "5. **Criterio de parada**:\n",
        "\n",
        "   - Repetir los pasos anteriores hasta que se alcance la tolerancia deseada:\n",
        "\n",
        "     $$\n",
        "     |f(x)| < \\varepsilon \\quad \\text{o} \\quad |b - a| < \\delta\n",
        "     $$\n",
        "\n",
        "   donde $\\varepsilon$ y $\\delta$ son tolerancias establecidas por el usuario.\n",
        "\n",
        "---\n",
        "\n",
        "* Defina una función llamada `Ridder` que calcule la raiz de una función dada. Su función debe tener documentación y retornar el valor de la raiz junto con el número de iteraciones empleadas para alcanzar la convergencia dada una tolerancia.\n",
        "\n",
        "* Usando\n",
        "$$\\cos(x) = x,$$\n",
        "\n",
        "Grafique la función para $0\\leq x \\leq \\pi/2$ usando 100 puntos. Luego, cree un DataFrame con los datos de $x$ y $f(x)$, y encuentre una primera aproximación a la raiz aplicando un filtro en el dataframe con los valores más cercanos a cero.\n",
        "\n",
        "* Usando el método de Ridder encuentre la raiz númericamente y compare su resultado usando el método de bisección y secante.\n",
        "\n",
        "* Para las siguientes tolerancias (ver código) realice un gráfico usando escala logaritimica en $y$ de cuantas iteraciones son necesarias hasta alcanzar la convergencia. ¿Qué puede concluir acerca de la misma?\n",
        "\n",
        "```python\n",
        "# Tolerancias\n",
        "tol = np.logspace(-1, -20, 20)\n",
        "\n",
        "# Grafico semilog\n",
        "\n",
        "plt.semilogy(N, tol)\n",
        "\n",
        "```"
      ],
      "metadata": {
        "id": "rNIchL-H5ZII"
      }
    },
    {
      "cell_type": "code",
      "source": [
        "from re import X\n",
        "# Aquí va su código\n",
        "def rider(f,A,B,tol,iter=1000):\n",
        "  iteraciones = iter\n",
        "  count = 0\n",
        "  a=A\n",
        "  b=B\n",
        "  while count < iteraciones:\n",
        "    m=(a+b)/2\n",
        "    fa=f(a)\n",
        "    fb=f(b)\n",
        "    fm=f(m)\n",
        "    if fa*fb > 0:\n",
        "      print(\"elegir un intervalo con una raiz dentro\")\n",
        "      break\n",
        "    s= math.sqrt((fm**2)-fa*fb)\n",
        "    if s==0:\n",
        "      break\n",
        "    else:\n",
        "      signo = np.sign(fa-fb)\n",
        "      x1 = m + ((m-a)*fm)*signo/s\n",
        "    fx1=f(x1)\n",
        "    if fm*fx1<0:\n",
        "      a=m\n",
        "      b=x1\n",
        "    elif fa*fx1<0:\n",
        "      b=x1\n",
        "      fb=fx1\n",
        "    elif fb*fx1<0:\n",
        "      a=x1\n",
        "      fa=fx1\n",
        "    if abs(fa) < tol:\n",
        "      break\n",
        "    count+=1\n",
        "  return a,count\n"
      ],
      "metadata": {
        "id": "phBAIpoX7Y9W"
      },
      "execution_count": 130,
      "outputs": []
    },
    {
      "cell_type": "code",
      "source": [
        "cos = lambda x: math.cos(x) - x\n",
        "rider(cos,0,(3*(math.pi))/2)\n",
        "puntos=np.linspace(0,math.pi/2,100)\n",
        "plt.plot(puntos, [cos(i) for i in puntos])"
      ],
      "metadata": {
        "colab": {
          "base_uri": "https://localhost:8080/",
          "height": 448
        },
        "id": "7znAqbzJlSWF",
        "outputId": "ad91807b-598f-4f77-906b-89fe87471b51"
      },
      "execution_count": 113,
      "outputs": [
        {
          "output_type": "execute_result",
          "data": {
            "text/plain": [
              "[<matplotlib.lines.Line2D at 0x7d02d984a750>]"
            ]
          },
          "metadata": {},
          "execution_count": 113
        },
        {
          "output_type": "display_data",
          "data": {
            "text/plain": [
              "<Figure size 640x480 with 1 Axes>"
            ],
            "image/png": "[encoded data removed]"
          },
          "metadata": {}
        }
      ]
    },
    {
      "cell_type": "code",
      "source": [
        "# Creación de un DataFrame a partir de un diccionario\n",
        "xdata = []\n",
        "x=np.linspace(0,math.pi/2,1000)\n",
        "for i in x:\n",
        "  xdata.append(i)\n",
        "#Crear el diccionario\n",
        "data = {'x': xdata,\n",
        "        'f(x)': [cos(i) for i in xdata],\n",
        "        }\n",
        "\n",
        "df = pd.DataFrame(data)\n",
        "#Filtrar el dataframe\n",
        "df_filtrado = df[abs(df['f(x)']) < 1e-3]\n",
        "print(df_filtrado)"
      ],
      "metadata": {
        "colab": {
          "base_uri": "https://localhost:8080/"
        },
        "id": "TaM2gVxXmCHG",
        "outputId": "b2fd76e5-35e8-424c-d311-d0d8f47800ad"
      },
      "execution_count": 88,
      "outputs": [
        {
          "output_type": "stream",
          "name": "stdout",
          "text": [
            "            x     f(x)\n",
            "470  0.739013  0.00012\n"
          ]
        }
      ]
    },
    {
      "cell_type": "code",
      "source": [
        "bisec=bisect(cos,0.2,1.2,xtol=1e-8)\n",
        "newt = newton(cos,0.2, tol=1e-8)\n",
        "print(bisec,newt)"
      ],
      "metadata": {
        "id": "rw6xTOoIvVQb",
        "colab": {
          "base_uri": "https://localhost:8080/"
        },
        "outputId": "50e2ddc7-0949-4908-a235-374774f705c6"
      },
      "execution_count": 97,
      "outputs": [
        {
          "output_type": "stream",
          "name": "stdout",
          "text": [
            "0.7390851274132728 0.7390851332151606\n"
          ]
        }
      ]
    },
    {
      "cell_type": "code",
      "source": [
        "a,x=rider(cos,0.2,1.2)\n",
        "print(a)\n",
        "print(x)\n",
        "\n",
        "#La función Rider sería mucho mejor,\n",
        "# al hacer todo el proceso en tan solo 3 iteraciones, asegurando un 1e-15\n",
        "#El valor en Geogebra es 0.74, así, el método es mucho más preciso"
      ],
      "metadata": {
        "colab": {
          "base_uri": "https://localhost:8080/"
        },
        "id": "yLvQMSL0_a-m",
        "outputId": "d7b96cb6-d0a5-4fae-8e78-5ffa969dd847"
      },
      "execution_count": 91,
      "outputs": [
        {
          "output_type": "stream",
          "name": "stdout",
          "text": [
            "0.7390851332151606\n",
            "3\n"
          ]
        }
      ]
    },
    {
      "cell_type": "code",
      "source": [
        "\n",
        "# Tolerancias\n",
        "tol = np.logspace(-1, -20, 20)\n",
        "N=[]\n",
        "for i in tol:\n",
        "  a,n=rider(cos,-0.5,(3*(math.pi))/2,i)\n",
        "  N.append(n)\n",
        "\n",
        "# Grafico semilog\n",
        "\n",
        "plt.semilogy(N, tol)\n",
        "\"\"\"Puedo concluir que inicialmente es muy eficiente, para\n",
        "epsilons pequeños, pero para mayores precisiones, necesita\n",
        "demasiadas interaciones, en efecto, todas las posibles\"\"\"\n"
      ],
      "metadata": {
        "colab": {
          "base_uri": "https://localhost:8080/",
          "height": 466
        },
        "id": "cZTDssL-ACiz",
        "outputId": "e6bd7b80-6576-4f4c-84a3-b75be56e88d0"
      },
      "execution_count": 144,
      "outputs": [
        {
          "output_type": "execute_result",
          "data": {
            "text/plain": [
              "'Puedo concluir que inicialmente es muy eficiente, para \\nepsilons pequeños, pero para mayores precisiones, necesita\\ndemasiadas interaciones, en efecto, todas las posibles'"
            ],
            "application/vnd.google.colaboratory.intrinsic+json": {
              "type": "string"
            }
          },
          "metadata": {},
          "execution_count": 144
        },
        {
          "output_type": "display_data",
          "data": {
            "text/plain": [
              "<Figure size 640x480 with 1 Axes>"
            ],
            "image/png": "[encoded data removed]"
          },
          "metadata": {}
        }
      ]
    },
    {
      "cell_type": "markdown",
      "source": [
        "#2\n",
        "\n",
        "**(60 puntos)** En óptica, cuando un rayo de luz atraviesa la interfaz entre dos medios con diferentes índices de refracción, su dirección cambia según la ley de Snell. Para el caso de un prisma triangular, cuando un rayo emerge después de dos refracciones, el ángulo de desviación total $\\delta$ está dado por:\n",
        "\n",
        "$$\\delta(\\theta_i) = \\theta_i + \\arcsin\\left(n\\sin\\left(A - \\arcsin\\left(\\frac{\\sin\\theta_i}{n}\\right)\\right)\\right) - A$$\n",
        "\n",
        "donde $\\theta_i$ es el ángulo de incidencia, $n$ es el índice de refracción del prisma y $A$ es el ángulo del prisma.\n",
        "\n",
        "La derivada de esta función con respecto al ángulo de incidencia $\\theta_i$ es:\n",
        "\n",
        "$$\\frac{d\\delta}{d\\theta_i} = 1 - \\frac{\\cos\\theta_i \\cdot \\cos(A-\\theta_r)}{\\cos\\theta_r \\cdot \\sqrt{1-n^2\\sin^2(A-\\theta_r)}}$$\n",
        "\n",
        "donde $\\theta_r = \\arcsin\\left(\\frac{\\sin\\theta_i}{n}\\right)$ es el ángulo de refracción en la primera interfaz.\n",
        "\n",
        "Considere un prisma de vidrio crown con $n = 1.52$ y $A = 60°$.\n",
        "\n",
        "### Parte A:\n",
        "* Escriba una función explicita y documentada para $\\frac{d\\delta}{d\\theta_i}$\n",
        "\n",
        "* Realice un gráfico para $\\frac{d\\delta}{d\\theta_i}$ y encuentre el ángulo de incidencia $\\theta_i$ que produce el ángulo de desviación mínimo para $\\theta_i \\in [30°, 80°]$.\n",
        "\n",
        "* Use el método de Newton-Raphson (sin derivada) y el método de la secante para hallar el ángulo de desviación mínimo.\n",
        "\n",
        "\n",
        "### Parte B:\n",
        "* Determine el ángulo crítico $\\theta_c$ para el cual el rayo comienza a experimentar reflexión interna total en la segunda interfaz del prisma. Esta condición ocurre cuando:\n",
        "\n",
        "$$\\sin(A - \\theta_r) = \\frac{1}{n}$$\n",
        "\n",
        "* Resuelva numéricamente la ecuación anterior para encontrar el ángulo de incidencia $\\theta_i$ correspondiente a este ángulo crítico, utilizando el método de la bisección.\n",
        "\n",
        "\n",
        "\n"
      ],
      "metadata": {
        "id": "od2GDFK5-QJC"
      }
    },
    {
      "cell_type": "code",
      "source": [
        "# Aquí va su código\n",
        "#ok, profesor, what in EARTH KFJKFKJD pero bueno, eso me pasa por meterme a física\n",
        "A=np.deg2rad(60)\n",
        "n=1.52\n",
        "#Aquí simplemente intercambié thetha por x en básicamente todas partes\n",
        "sthetha= lambda x: x+math.asin(n*math.sin(A-math.asin(math.sin(x)/n)))-A\n",
        "rthetha= lambda x: math.asin(x/n)\n",
        "#profe, pues, matemáticas básicas\n",
        "dsthetha = lambda x: 1-(math.cos(x)*math.cos(A-rthetha(x)))/(math.cos(rthetha(x))*math.sqrt(1-(n**2)*(math.sin(A-rthetha(x)))**2))\n",
        "#haga sino sumar y restar dkjfjkd\n",
        "a=np.deg2rad(30)\n",
        "b=np.deg2rad(80)\n",
        "x=np.linspace(a,b,100)\n",
        "plt.plot(x,[dsthetha(i) for i in x])\n",
        "#el ángulo de incidencia mínimo sería el x que está más cercano a cero, right?\n",
        "\"\"\"honestamente, no comprendo a qué se refiere con \"sin derivada\" en lo que\n",
        "respecta a querer hallar la raíz, teniendo en cuenta que el método de Newton,\n",
        "al no pasarle un parámetro de derivada de la función, simplemente se convierte en\n",
        "el método de secante según la documentación de Geeksforgeeks, así, lo que haré\n",
        "será hallar la raíz de la función derivada, ya que ese sería el mínimo local de la función original,\n",
        "como se puede intuir en la comparación de las gráficas\"\"\"\n",
        "#función original, btw\n",
        "plt.plot(x,[sthetha(i) for i in x])\n",
        "\n",
        "raiz=newton(dsthetha,0.6)\n",
        "print(raiz)"
      ],
      "metadata": {
        "id": "hkHRzyB9-mSS",
        "colab": {
          "base_uri": "https://localhost:8080/",
          "height": 448
        },
        "outputId": "22d1ef07-a716-4ba4-fa5b-df1c3d24e3d8"
      },
      "execution_count": 157,
      "outputs": [
        {
          "output_type": "stream",
          "name": "stdout",
          "text": [
            "0.8234166457011329\n"
          ]
        },
        {
          "output_type": "display_data",
          "data": {
            "text/plain": [
              "<Figure size 640x480 with 1 Axes>"
            ],
            "image/png": "[encoded data removed]"
          },
          "metadata": {}
        }
      ]
    },
    {
      "cell_type": "code",
      "source": [
        "#tristeza, me doy cuenta que esta parte del parcial era más cortica :(, pero bueno\n",
        "#el seno del B\n",
        "senoraro = lambda x: math.sin(A-rthetha(x))-(1/n)\n",
        "plt.plot(x,[senoraro(i) for i in x])\n",
        "\n",
        "a=bisect(senoraro,0,1)\n",
        "print(a)\n",
        "#pues nada, eso es todo, gracias por la paciencia y que tenga buena noche, profesor"
      ],
      "metadata": {
        "colab": {
          "base_uri": "https://localhost:8080/",
          "height": 448
        },
        "id": "LyAawrxyUZyz",
        "outputId": "4a03a11b-d890-4055-a495-b704e8a8182a"
      },
      "execution_count": 160,
      "outputs": [
        {
          "output_type": "stream",
          "name": "stdout",
          "text": [
            "0.49136269851260295\n"
          ]
        },
        {
          "output_type": "display_data",
          "data": {
            "text/plain": [
              "<Figure size 640x480 with 1 Axes>"
            ],
            "image/png": "[encoded data removed]"
          },
          "metadata": {}
        }
      ]
    },
    {
      "cell_type": "code",
      "source": [],
      "metadata": {
        "id": "nFUARb8ORV_W"
      },
      "execution_count": null,
      "outputs": []
    }
  ]
}